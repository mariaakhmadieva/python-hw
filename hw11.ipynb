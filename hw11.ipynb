{
  "nbformat": 4,
  "nbformat_minor": 0,
  "metadata": {
    "colab": {
      "provenance": [],
      "authorship_tag": "ABX9TyOhjAob2a86ec5TFGbHXPmT",
      "include_colab_link": true
    },
    "kernelspec": {
      "name": "python3",
      "display_name": "Python 3"
    },
    "language_info": {
      "name": "python"
    }
  },
  "cells": [
    {
      "cell_type": "markdown",
      "metadata": {
        "id": "view-in-github",
        "colab_type": "text"
      },
      "source": [
        "<a href=\"https://colab.research.google.com/github/mariaakhmadieva/python/blob/main/hw11.ipynb\" target=\"_parent\"><img src=\"https://colab.research.google.com/assets/colab-badge.svg\" alt=\"Open In Colab\"/></a>"
      ]
    },
    {
      "cell_type": "markdown",
      "source": [
        "Условия задачи: f(x) = -12x^4*sin(cos(x)) - 18x^3+5x^2 + 10x - 30\n",
        "\n",
        "Определить корни\n",
        "\n",
        "Найти интервалы, на которых функция возрастает\n",
        "\n",
        "Найти интервалы, на которых функция убывает\n",
        "\n",
        "Построить график\n",
        "\n",
        "Вычислить вершину\n",
        "\n",
        "Определить промежутки, на котором f > 0\n",
        "\n",
        "Определить промежутки, на котором f < 0"
      ],
      "metadata": {
        "id": "05bJbbHQn0xu"
      }
    },
    {
      "cell_type": "code",
      "source": [
        "from sympy import *\n",
        "from sympy.plotting import plot\n",
        "import math\n",
        "init_printing()"
      ],
      "metadata": {
        "id": "9i9hhpGNn3OA"
      },
      "execution_count": 23,
      "outputs": []
    },
    {
      "cell_type": "code",
      "source": [
        "x = symbols('x')"
      ],
      "metadata": {
        "id": "mb21-n-QoDOS"
      },
      "execution_count": 24,
      "outputs": []
    },
    {
      "cell_type": "code",
      "source": [
        "f = ((-12 * (x ** 4)) * (sin(cos(x))) - (18 * (x ** 3)) + (5 * (x ** 2)) + 10 * x - 30)"
      ],
      "metadata": {
        "id": "W0vTcnqDoo52"
      },
      "execution_count": 25,
      "outputs": []
    },
    {
      "cell_type": "code",
      "source": [
        "f"
      ],
      "metadata": {
        "colab": {
          "base_uri": "https://localhost:8080/",
          "height": 38
        },
        "id": "QIwxI3CwopPU",
        "outputId": "9fe94c77-7702-4861-84a3-fcf48933a14b"
      },
      "execution_count": 26,
      "outputs": [
        {
          "output_type": "execute_result",
          "data": {
            "text/plain": [
              "      4                   3      2            \n",
              "- 12⋅x ⋅sin(cos(x)) - 18⋅x  + 5⋅x  + 10⋅x - 30"
            ],
            "image/png": "[encoded data removed]",
            "text/latex": "$\\displaystyle - 12 x^{4} \\sin{\\left(\\cos{\\left(x \\right)} \\right)} - 18 x^{3} + 5 x^{2} + 10 x - 30$"
          },
          "metadata": {},
          "execution_count": 26
        }
      ]
    },
    {
      "cell_type": "code",
      "source": [
        "solveset(f)"
      ],
      "metadata": {
        "colab": {
          "base_uri": "https://localhost:8080/",
          "height": 38
        },
        "id": "iqsN5qvIp2IE",
        "outputId": "2b77b426-dd1d-41be-e5fa-53e9bc5161b0"
      },
      "execution_count": 27,
      "outputs": [
        {
          "output_type": "execute_result",
          "data": {
            "text/plain": [
              "⎧            ⎛      4                   3      2                ⎞⎫\n",
              "⎨x | x ∊ ℂ ∧ ⎝- 12⋅x ⋅sin(cos(x)) - 18⋅x  + 5⋅x  + 10⋅x - 30 = 0⎠⎬\n",
              "⎩                                                                ⎭"
            ],
            "image/png": "[encoded data removed]",
            "text/latex": "$\\displaystyle \\left\\{x \\mid x \\in \\mathbb{C} \\wedge - 12 x^{4} \\sin{\\left(\\cos{\\left(x \\right)} \\right)} - 18 x^{3} + 5 x^{2} + 10 x - 30 = 0 \\right\\}$"
          },
          "metadata": {},
          "execution_count": 27
        }
      ]
    },
    {
      "cell_type": "code",
      "source": [
        "plot(f, line_color='blue')\n",
        "print(f)"
      ],
      "metadata": {
        "colab": {
          "base_uri": "https://localhost:8080/",
          "height": 314
        },
        "id": "z0AwImXqopYs",
        "outputId": "87099a0b-358d-44a8-ced4-d1b278d6984d"
      },
      "execution_count": 29,
      "outputs": [
        {
          "output_type": "display_data",
          "data": {
            "text/plain": [
              "<Figure size 432x288 with 1 Axes>"
            ],
            "image/png": "[encoded data removed]"
          },
          "metadata": {
            "needs_background": "light"
          }
        },
        {
          "output_type": "stream",
          "name": "stdout",
          "text": [
            "-12*x**4*sin(cos(x)) - 18*x**3 + 5*x**2 + 10*x - 30\n"
          ]
        }
      ]
    },
    {
      "cell_type": "markdown",
      "source": [
        "Множество всех значений x, принадлежащих множеству комплексных чисел и для которых верно уравнение f(x)"
      ],
      "metadata": {
        "id": "C-mG2hDFqQW6"
      }
    },
    {
      "cell_type": "markdown",
      "source": [
        "Функция имеет точки экстремума (перегиба) и видимую точку минимума при х~7. Функция строго возрастает при х>7 и на промежутке от [-7.3;-4.8] Функция убывает от [-10;-7.3)U(-4.8;0)U(4.8;7]"
      ],
      "metadata": {
        "id": "Zr6Fbj-vqRgM"
      }
    },
    {
      "cell_type": "markdown",
      "source": [
        "Для определения периодов возрастания и убывания функции возьмем производную от f:"
      ],
      "metadata": {
        "id": "CdywgMJvqTqE"
      }
    },
    {
      "cell_type": "code",
      "source": [
        "f"
      ],
      "metadata": {
        "colab": {
          "base_uri": "https://localhost:8080/",
          "height": 38
        },
        "id": "f8ennDCTqV08",
        "outputId": "792b97c0-9926-471d-956f-5b9813a10a3a"
      },
      "execution_count": 30,
      "outputs": [
        {
          "output_type": "execute_result",
          "data": {
            "text/plain": [
              "      4                   3      2            \n",
              "- 12⋅x ⋅sin(cos(x)) - 18⋅x  + 5⋅x  + 10⋅x - 30"
            ],
            "image/png": "[encoded data removed]",
            "text/latex": "$\\displaystyle - 12 x^{4} \\sin{\\left(\\cos{\\left(x \\right)} \\right)} - 18 x^{3} + 5 x^{2} + 10 x - 30$"
          },
          "metadata": {},
          "execution_count": 30
        }
      ]
    },
    {
      "cell_type": "code",
      "source": [
        "f, ff = symbols('f ff')\n",
        "f = ((-12 * (x ** 4)) * (sin(cos(x))) - (18 * (x ** 3)) + (5 * (x ** 2)) + 10 * x - 30)\n",
        "ff = diff(f)\n",
        "print(ff)"
      ],
      "metadata": {
        "colab": {
          "base_uri": "https://localhost:8080/"
        },
        "id": "5rKhYxBfqZ6F",
        "outputId": "eb3eed4a-bf4c-4c3a-cc5c-730dca7303a8"
      },
      "execution_count": 32,
      "outputs": [
        {
          "output_type": "stream",
          "name": "stdout",
          "text": [
            "12*x**4*sin(x)*cos(cos(x)) - 48*x**3*sin(cos(x)) - 54*x**2 + 10*x + 10\n"
          ]
        }
      ]
    },
    {
      "cell_type": "markdown",
      "source": [
        "Производная функии равна:"
      ],
      "metadata": {
        "id": "YF-2cue_qgV3"
      }
    },
    {
      "cell_type": "code",
      "source": [
        "ff"
      ],
      "metadata": {
        "colab": {
          "base_uri": "https://localhost:8080/",
          "height": 38
        },
        "id": "yERMUlEaqhIY",
        "outputId": "6dd7687f-3c7c-44b3-92ac-42803a23748d"
      },
      "execution_count": 33,
      "outputs": [
        {
          "output_type": "execute_result",
          "data": {
            "text/plain": [
              "    4                          3                   2            \n",
              "12⋅x ⋅sin(x)⋅cos(cos(x)) - 48⋅x ⋅sin(cos(x)) - 54⋅x  + 10⋅x + 10"
            ],
            "image/png": "[encoded data removed]",
            "text/latex": "$\\displaystyle 12 x^{4} \\sin{\\left(x \\right)} \\cos{\\left(\\cos{\\left(x \\right)} \\right)} - 48 x^{3} \\sin{\\left(\\cos{\\left(x \\right)} \\right)} - 54 x^{2} + 10 x + 10$"
          },
          "metadata": {},
          "execution_count": 33
        }
      ]
    },
    {
      "cell_type": "code",
      "source": [
        "plot(ff)"
      ],
      "metadata": {
        "colab": {
          "base_uri": "https://localhost:8080/",
          "height": 314
        },
        "id": "rK2bZ7R8qkgB",
        "outputId": "3c900f4e-79d8-416f-82d2-56b428a7d110"
      },
      "execution_count": 34,
      "outputs": [
        {
          "output_type": "display_data",
          "data": {
            "text/plain": [
              "<Figure size 432x288 with 1 Axes>"
            ],
            "image/png": "[encoded data removed]"
          },
          "metadata": {
            "needs_background": "light"
          }
        },
        {
          "output_type": "execute_result",
          "data": {
            "text/plain": [
              "<sympy.plotting.plot.Plot at 0x7f4e8ab2a820>"
            ]
          },
          "metadata": {},
          "execution_count": 34
        }
      ]
    },
    {
      "cell_type": "markdown",
      "source": [
        "График производной функции также показывает интервалы возрастания и убывания функции. Там где производная функции больше 0, сама функция возрастает, а где производная меньше 0, функция убывает. В тех точках, где производная обращается в 0 находятся экстремумы функции."
      ],
      "metadata": {
        "id": "fVlL6vSzqmvK"
      }
    }
  ]
}